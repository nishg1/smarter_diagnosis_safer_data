{
  "nbformat": 4,
  "nbformat_minor": 0,
  "metadata": {
    "colab": {
      "provenance": []
    },
    "kernelspec": {
      "name": "python3",
      "display_name": "Python 3"
    },
    "language_info": {
      "name": "python"
    }
  },
  "cells": [
    {
      "cell_type": "code",
      "execution_count": 2,
      "metadata": {
        "colab": {
          "base_uri": "https://localhost:8080/"
        },
        "id": "ntpgSDvUgLxF",
        "outputId": "7f274326-0e0d-4668-f61f-70f0586fc00c"
      },
      "outputs": [
        {
          "output_type": "stream",
          "name": "stdout",
          "text": [
            "Collecting ucimlrepo\n",
            "  Downloading ucimlrepo-0.0.7-py3-none-any.whl.metadata (5.5 kB)\n",
            "Requirement already satisfied: pandas>=1.0.0 in /usr/local/lib/python3.11/dist-packages (from ucimlrepo) (2.2.2)\n",
            "Requirement already satisfied: certifi>=2020.12.5 in /usr/local/lib/python3.11/dist-packages (from ucimlrepo) (2025.1.31)\n",
            "Requirement already satisfied: numpy>=1.23.2 in /usr/local/lib/python3.11/dist-packages (from pandas>=1.0.0->ucimlrepo) (2.0.2)\n",
            "Requirement already satisfied: python-dateutil>=2.8.2 in /usr/local/lib/python3.11/dist-packages (from pandas>=1.0.0->ucimlrepo) (2.8.2)\n",
            "Requirement already satisfied: pytz>=2020.1 in /usr/local/lib/python3.11/dist-packages (from pandas>=1.0.0->ucimlrepo) (2025.2)\n",
            "Requirement already satisfied: tzdata>=2022.7 in /usr/local/lib/python3.11/dist-packages (from pandas>=1.0.0->ucimlrepo) (2025.2)\n",
            "Requirement already satisfied: six>=1.5 in /usr/local/lib/python3.11/dist-packages (from python-dateutil>=2.8.2->pandas>=1.0.0->ucimlrepo) (1.17.0)\n",
            "Downloading ucimlrepo-0.0.7-py3-none-any.whl (8.0 kB)\n",
            "Installing collected packages: ucimlrepo\n",
            "Successfully installed ucimlrepo-0.0.7\n"
          ]
        }
      ],
      "source": [
        "pip install ucimlrepo"
      ]
    },
    {
      "cell_type": "code",
      "source": [
        "from ucimlrepo import fetch_ucirepo\n",
        "\n",
        "# fetch dataset\n",
        "heart_disease = fetch_ucirepo(id=45)\n",
        "\n",
        "# data (as pandas dataframes)\n",
        "X = heart_disease.data.features\n",
        "y = heart_disease.data.targets\n",
        "\n",
        "# metadata\n",
        "print(heart_disease.metadata)\n",
        "\n",
        "print()\n",
        "\n",
        "# variable information\n",
        "print(heart_disease.variables)\n",
        "\n"
      ],
      "metadata": {
        "colab": {
          "base_uri": "https://localhost:8080/"
        },
        "id": "gwNhx_U7gQaX",
        "outputId": "df5a2b1d-1c64-40c7-f61a-15e01aef8767"
      },
      "execution_count": 3,
      "outputs": [
        {
          "output_type": "stream",
          "name": "stdout",
          "text": [
            "{'uci_id': 45, 'name': 'Heart Disease', 'repository_url': 'https://archive.ics.uci.edu/dataset/45/heart+disease', 'data_url': 'https://archive.ics.uci.edu/static/public/45/data.csv', 'abstract': '4 databases: Cleveland, Hungary, Switzerland, and the VA Long Beach', 'area': 'Health and Medicine', 'tasks': ['Classification'], 'characteristics': ['Multivariate'], 'num_instances': 303, 'num_features': 13, 'feature_types': ['Categorical', 'Integer', 'Real'], 'demographics': ['Age', 'Sex'], 'target_col': ['num'], 'index_col': None, 'has_missing_values': 'yes', 'missing_values_symbol': 'NaN', 'year_of_dataset_creation': 1989, 'last_updated': 'Fri Nov 03 2023', 'dataset_doi': '10.24432/C52P4X', 'creators': ['Andras Janosi', 'William Steinbrunn', 'Matthias Pfisterer', 'Robert Detrano'], 'intro_paper': {'ID': 231, 'type': 'NATIVE', 'title': 'International application of a new probability algorithm for the diagnosis of coronary artery disease.', 'authors': 'R. Detrano, A. Jánosi, W. Steinbrunn, M. Pfisterer, J. Schmid, S. Sandhu, K. Guppy, S. Lee, V. Froelicher', 'venue': 'American Journal of Cardiology', 'year': 1989, 'journal': None, 'DOI': None, 'URL': 'https://www.semanticscholar.org/paper/a7d714f8f87bfc41351eb5ae1e5472f0ebbe0574', 'sha': None, 'corpus': None, 'arxiv': None, 'mag': None, 'acl': None, 'pmid': '2756873', 'pmcid': None}, 'additional_info': {'summary': 'This database contains 76 attributes, but all published experiments refer to using a subset of 14 of them.  In particular, the Cleveland database is the only one that has been used by ML researchers to date.  The \"goal\" field refers to the presence of heart disease in the patient.  It is integer valued from 0 (no presence) to 4. Experiments with the Cleveland database have concentrated on simply attempting to distinguish presence (values 1,2,3,4) from absence (value 0).  \\n   \\nThe names and social security numbers of the patients were recently removed from the database, replaced with dummy values.\\n\\nOne file has been \"processed\", that one containing the Cleveland database.  All four unprocessed files also exist in this directory.\\n\\nTo see Test Costs (donated by Peter Turney), please see the folder \"Costs\" ', 'purpose': None, 'funded_by': None, 'instances_represent': None, 'recommended_data_splits': None, 'sensitive_data': None, 'preprocessing_description': None, 'variable_info': 'Only 14 attributes used:\\r\\n      1. #3  (age)       \\r\\n      2. #4  (sex)       \\r\\n      3. #9  (cp)        \\r\\n      4. #10 (trestbps)  \\r\\n      5. #12 (chol)      \\r\\n      6. #16 (fbs)       \\r\\n      7. #19 (restecg)   \\r\\n      8. #32 (thalach)   \\r\\n      9. #38 (exang)     \\r\\n      10. #40 (oldpeak)   \\r\\n      11. #41 (slope)     \\r\\n      12. #44 (ca)        \\r\\n      13. #51 (thal)      \\r\\n      14. #58 (num)       (the predicted attribute)\\r\\n\\r\\nComplete attribute documentation:\\r\\n      1 id: patient identification number\\r\\n      2 ccf: social security number (I replaced this with a dummy value of 0)\\r\\n      3 age: age in years\\r\\n      4 sex: sex (1 = male; 0 = female)\\r\\n      5 painloc: chest pain location (1 = substernal; 0 = otherwise)\\r\\n      6 painexer (1 = provoked by exertion; 0 = otherwise)\\r\\n      7 relrest (1 = relieved after rest; 0 = otherwise)\\r\\n      8 pncaden (sum of 5, 6, and 7)\\r\\n      9 cp: chest pain type\\r\\n        -- Value 1: typical angina\\r\\n        -- Value 2: atypical angina\\r\\n        -- Value 3: non-anginal pain\\r\\n        -- Value 4: asymptomatic\\r\\n     10 trestbps: resting blood pressure (in mm Hg on admission to the hospital)\\r\\n     11 htn\\r\\n     12 chol: serum cholestoral in mg/dl\\r\\n     13 smoke: I believe this is 1 = yes; 0 = no (is or is not a smoker)\\r\\n     14 cigs (cigarettes per day)\\r\\n     15 years (number of years as a smoker)\\r\\n     16 fbs: (fasting blood sugar > 120 mg/dl)  (1 = true; 0 = false)\\r\\n     17 dm (1 = history of diabetes; 0 = no such history)\\r\\n     18 famhist: family history of coronary artery disease (1 = yes; 0 = no)\\r\\n     19 restecg: resting electrocardiographic results\\r\\n        -- Value 0: normal\\r\\n        -- Value 1: having ST-T wave abnormality (T wave inversions and/or ST elevation or depression of > 0.05 mV)\\r\\n        -- Value 2: showing probable or definite left ventricular hypertrophy by Estes\\' criteria\\r\\n     20 ekgmo (month of exercise ECG reading)\\r\\n     21 ekgday(day of exercise ECG reading)\\r\\n     22 ekgyr (year of exercise ECG reading)\\r\\n     23 dig (digitalis used furing exercise ECG: 1 = yes; 0 = no)\\r\\n     24 prop (Beta blocker used during exercise ECG: 1 = yes; 0 = no)\\r\\n     25 nitr (nitrates used during exercise ECG: 1 = yes; 0 = no)\\r\\n     26 pro (calcium channel blocker used during exercise ECG: 1 = yes; 0 = no)\\r\\n     27 diuretic (diuretic used used during exercise ECG: 1 = yes; 0 = no)\\r\\n     28 proto: exercise protocol\\r\\n          1 = Bruce     \\r\\n          2 = Kottus\\r\\n          3 = McHenry\\r\\n          4 = fast Balke\\r\\n          5 = Balke\\r\\n          6 = Noughton \\r\\n          7 = bike 150 kpa min/min  (Not sure if \"kpa min/min\" is what was written!)\\r\\n          8 = bike 125 kpa min/min  \\r\\n          9 = bike 100 kpa min/min\\r\\n         10 = bike 75 kpa min/min\\r\\n         11 = bike 50 kpa min/min\\r\\n         12 = arm ergometer\\r\\n     29 thaldur: duration of exercise test in minutes\\r\\n     30 thaltime: time when ST measure depression was noted\\r\\n     31 met: mets achieved\\r\\n     32 thalach: maximum heart rate achieved\\r\\n     33 thalrest: resting heart rate\\r\\n     34 tpeakbps: peak exercise blood pressure (first of 2 parts)\\r\\n     35 tpeakbpd: peak exercise blood pressure (second of 2 parts)\\r\\n     36 dummy\\r\\n     37 trestbpd: resting blood pressure\\r\\n     38 exang: exercise induced angina (1 = yes; 0 = no)\\r\\n     39 xhypo: (1 = yes; 0 = no)\\r\\n     40 oldpeak = ST depression induced by exercise relative to rest\\r\\n     41 slope: the slope of the peak exercise ST segment\\r\\n        -- Value 1: upsloping\\r\\n        -- Value 2: flat\\r\\n        -- Value 3: downsloping\\r\\n     42 rldv5: height at rest\\r\\n     43 rldv5e: height at peak exercise\\r\\n     44 ca: number of major vessels (0-3) colored by flourosopy\\r\\n     45 restckm: irrelevant\\r\\n     46 exerckm: irrelevant\\r\\n     47 restef: rest raidonuclid (sp?) ejection fraction\\r\\n     48 restwm: rest wall (sp?) motion abnormality\\r\\n        0 = none\\r\\n        1 = mild or moderate\\r\\n        2 = moderate or severe\\r\\n        3 = akinesis or dyskmem (sp?)\\r\\n     49 exeref: exercise radinalid (sp?) ejection fraction\\r\\n     50 exerwm: exercise wall (sp?) motion \\r\\n     51 thal: 3 = normal; 6 = fixed defect; 7 = reversable defect\\r\\n     52 thalsev: not used\\r\\n     53 thalpul: not used\\r\\n     54 earlobe: not used\\r\\n     55 cmo: month of cardiac cath (sp?)  (perhaps \"call\")\\r\\n     56 cday: day of cardiac cath (sp?)\\r\\n     57 cyr: year of cardiac cath (sp?)\\r\\n     58 num: diagnosis of heart disease (angiographic disease status)\\r\\n        -- Value 0: < 50% diameter narrowing\\r\\n        -- Value 1: > 50% diameter narrowing\\r\\n        (in any major vessel: attributes 59 through 68 are vessels)\\r\\n     59 lmt\\r\\n     60 ladprox\\r\\n     61 laddist\\r\\n     62 diag\\r\\n     63 cxmain\\r\\n     64 ramus\\r\\n     65 om1\\r\\n     66 om2\\r\\n     67 rcaprox\\r\\n     68 rcadist\\r\\n     69 lvx1: not used\\r\\n     70 lvx2: not used\\r\\n     71 lvx3: not used\\r\\n     72 lvx4: not used\\r\\n     73 lvf: not used\\r\\n     74 cathef: not used\\r\\n     75 junk: not used\\r\\n     76 name: last name of patient  (I replaced this with the dummy string \"name\")', 'citation': None}}\n",
            "\n",
            "        name     role         type demographic  \\\n",
            "0        age  Feature      Integer         Age   \n",
            "1        sex  Feature  Categorical         Sex   \n",
            "2         cp  Feature  Categorical        None   \n",
            "3   trestbps  Feature      Integer        None   \n",
            "4       chol  Feature      Integer        None   \n",
            "5        fbs  Feature  Categorical        None   \n",
            "6    restecg  Feature  Categorical        None   \n",
            "7    thalach  Feature      Integer        None   \n",
            "8      exang  Feature  Categorical        None   \n",
            "9    oldpeak  Feature      Integer        None   \n",
            "10     slope  Feature  Categorical        None   \n",
            "11        ca  Feature      Integer        None   \n",
            "12      thal  Feature  Categorical        None   \n",
            "13       num   Target      Integer        None   \n",
            "\n",
            "                                          description  units missing_values  \n",
            "0                                                None  years             no  \n",
            "1                                                None   None             no  \n",
            "2                                                None   None             no  \n",
            "3   resting blood pressure (on admission to the ho...  mm Hg             no  \n",
            "4                                   serum cholestoral  mg/dl             no  \n",
            "5                     fasting blood sugar > 120 mg/dl   None             no  \n",
            "6                                                None   None             no  \n",
            "7                         maximum heart rate achieved   None             no  \n",
            "8                             exercise induced angina   None             no  \n",
            "9   ST depression induced by exercise relative to ...   None             no  \n",
            "10                                               None   None             no  \n",
            "11  number of major vessels (0-3) colored by flour...   None            yes  \n",
            "12                                               None   None            yes  \n",
            "13                         diagnosis of heart disease   None             no  \n"
          ]
        }
      ]
    },
    {
      "cell_type": "code",
      "source": [
        "print(heart_disease.variables.keys())"
      ],
      "metadata": {
        "colab": {
          "base_uri": "https://localhost:8080/"
        },
        "id": "81T8Stz3rcwO",
        "outputId": "a1016e91-7658-4f70-94b4-00c431d2ec3b"
      },
      "execution_count": 4,
      "outputs": [
        {
          "output_type": "stream",
          "name": "stdout",
          "text": [
            "Index(['name', 'role', 'type', 'demographic', 'description', 'units',\n",
            "       'missing_values'],\n",
            "      dtype='object')\n"
          ]
        }
      ]
    },
    {
      "cell_type": "code",
      "source": [
        "print(heart_disease.variables['name'])"
      ],
      "metadata": {
        "colab": {
          "base_uri": "https://localhost:8080/"
        },
        "id": "H9yFgWdGr1pK",
        "outputId": "1a669f78-2582-4f43-a765-fcdd1e64d4c6"
      },
      "execution_count": 5,
      "outputs": [
        {
          "output_type": "stream",
          "name": "stdout",
          "text": [
            "0          age\n",
            "1          sex\n",
            "2           cp\n",
            "3     trestbps\n",
            "4         chol\n",
            "5          fbs\n",
            "6      restecg\n",
            "7      thalach\n",
            "8        exang\n",
            "9      oldpeak\n",
            "10       slope\n",
            "11          ca\n",
            "12        thal\n",
            "13         num\n",
            "Name: name, dtype: object\n"
          ]
        }
      ]
    },
    {
      "cell_type": "code",
      "source": [
        "print(heart_disease.metadata.keys())\n",
        "print()\n",
        "print(heart_disease.metadata['target_col'])"
      ],
      "metadata": {
        "colab": {
          "base_uri": "https://localhost:8080/"
        },
        "id": "whvF1av6r6YY",
        "outputId": "bcf21355-9764-47f7-ed62-f20e9b28c59e"
      },
      "execution_count": 6,
      "outputs": [
        {
          "output_type": "stream",
          "name": "stdout",
          "text": [
            "dict_keys(['uci_id', 'name', 'repository_url', 'data_url', 'abstract', 'area', 'tasks', 'characteristics', 'num_instances', 'num_features', 'feature_types', 'demographics', 'target_col', 'index_col', 'has_missing_values', 'missing_values_symbol', 'year_of_dataset_creation', 'last_updated', 'dataset_doi', 'creators', 'intro_paper', 'additional_info'])\n",
            "\n",
            "['num']\n"
          ]
        }
      ]
    },
    {
      "cell_type": "code",
      "source": [
        "print(heart_disease.data.features.keys())"
      ],
      "metadata": {
        "colab": {
          "base_uri": "https://localhost:8080/"
        },
        "id": "u5lBr259tUyD",
        "outputId": "d1446084-86ac-415c-999f-6f5953054de3"
      },
      "execution_count": 7,
      "outputs": [
        {
          "output_type": "stream",
          "name": "stdout",
          "text": [
            "Index(['age', 'sex', 'cp', 'trestbps', 'chol', 'fbs', 'restecg', 'thalach',\n",
            "       'exang', 'oldpeak', 'slope', 'ca', 'thal'],\n",
            "      dtype='object')\n"
          ]
        }
      ]
    },
    {
      "cell_type": "code",
      "source": [
        "print(heart_disease.data.targets.keys())"
      ],
      "metadata": {
        "colab": {
          "base_uri": "https://localhost:8080/"
        },
        "id": "TkFKzap7tbQ6",
        "outputId": "c3195092-72c8-4bb8-b2f5-16d4c01371c6"
      },
      "execution_count": 8,
      "outputs": [
        {
          "output_type": "stream",
          "name": "stdout",
          "text": [
            "Index(['num'], dtype='object')\n"
          ]
        }
      ]
    },
    {
      "cell_type": "code",
      "source": [
        "print(heart_disease.data.targets)"
      ],
      "metadata": {
        "colab": {
          "base_uri": "https://localhost:8080/"
        },
        "id": "XrwcJuDAtdt0",
        "outputId": "d3cf8b3f-8a5c-49bf-b7a6-fce0588a029c"
      },
      "execution_count": 9,
      "outputs": [
        {
          "output_type": "stream",
          "name": "stdout",
          "text": [
            "     num\n",
            "0      0\n",
            "1      2\n",
            "2      1\n",
            "3      0\n",
            "4      0\n",
            "..   ...\n",
            "298    1\n",
            "299    2\n",
            "300    3\n",
            "301    1\n",
            "302    0\n",
            "\n",
            "[303 rows x 1 columns]\n"
          ]
        }
      ]
    },
    {
      "cell_type": "code",
      "source": [
        "target = heart_disease.data.targets\n",
        "\n",
        "target = target['num'].apply(lambda x: 1 if x > 0 else 0) # convert to either 0 for no heart disease or 1 for heart disease\n",
        "\n",
        "print(target)"
      ],
      "metadata": {
        "id": "dKnEuH7tJaAD",
        "colab": {
          "base_uri": "https://localhost:8080/"
        },
        "outputId": "9c64221f-e407-4318-fa76-b76da0e9e5aa"
      },
      "execution_count": 11,
      "outputs": [
        {
          "output_type": "stream",
          "name": "stdout",
          "text": [
            "0      0\n",
            "1      1\n",
            "2      1\n",
            "3      0\n",
            "4      0\n",
            "      ..\n",
            "298    1\n",
            "299    1\n",
            "300    1\n",
            "301    1\n",
            "302    0\n",
            "Name: num, Length: 303, dtype: int64\n"
          ]
        }
      ]
    },
    {
      "cell_type": "code",
      "source": [
        "from sklearn.model_selection import train_test_split\n",
        "from sklearn.ensemble import HistGradientBoostingClassifier\n",
        "from sklearn.model_selection import GridSearchCV\n",
        "from sklearn.metrics import accuracy_score, classification_report, confusion_matrix\n",
        "\n",
        "\n",
        "X_train, X_test, y_train, y_test = train_test_split(X, target, test_size=0.2, random_state=42)\n",
        "\n",
        "model = HistGradientBoostingClassifier()\n",
        "\n",
        "model.fit(X_train,y_train)\n",
        "\n",
        "y_preds = model.predict(X_test)\n",
        "\n",
        "print(accuracy_score(y_test, y_preds))"
      ],
      "metadata": {
        "colab": {
          "base_uri": "https://localhost:8080/"
        },
        "id": "-eZMSOVSMHmu",
        "outputId": "18975a03-69f4-43c7-9e54-15a7e6edc975"
      },
      "execution_count": 13,
      "outputs": [
        {
          "output_type": "stream",
          "name": "stdout",
          "text": [
            "0.9016393442622951\n"
          ]
        }
      ]
    },
    {
      "cell_type": "code",
      "source": [
        "params = [{\n",
        "    \"learning_rate\": [0.05,0.1,0.25,0.4],\n",
        "    \"max_iter\": [50,100,250]\n",
        "}]\n",
        "\n",
        "gridsearch = GridSearchCV(estimator=model, param_grid=params, cv=10)\n",
        "\n",
        "gridsearch.fit(X_train,y_train)\n",
        "\n",
        "print(\"best parameters: \", gridsearch.best_params_)\n",
        "\n",
        "print(\"best estimator: \", gridsearch.best_estimator_)\n",
        "\n",
        "print(\"best score: \", gridsearch.best_score_)"
      ],
      "metadata": {
        "colab": {
          "base_uri": "https://localhost:8080/"
        },
        "id": "xXokSFWZTetk",
        "outputId": "59db32d4-949e-4a8c-a7a4-ee44c365bac6"
      },
      "execution_count": 21,
      "outputs": [
        {
          "output_type": "stream",
          "name": "stdout",
          "text": [
            "best parameters:  {'learning_rate': 0.05, 'max_iter': 250}\n",
            "best estimator:  HistGradientBoostingClassifier(learning_rate=0.05, max_iter=250)\n",
            "best score:  0.7985\n"
          ]
        }
      ]
    },
    {
      "cell_type": "code",
      "source": [
        "from xgboost import XGBClassifier\n",
        "from sklearn.model_selection import train_test_split\n",
        "from sklearn.ensemble import HistGradientBoostingClassifier\n",
        "from sklearn.model_selection import GridSearchCV\n",
        "from sklearn.metrics import accuracy_score, classification_report, confusion_matrix\n",
        "\n",
        "\n",
        "#X_train, X_test, y_train, y_test = train_test_split(X, heart_disease.data.targets['num'], test_size=0.2, random_state=42)\n",
        "\n",
        "X_train, X_test, y_train, y_test = train_test_split(X, target, test_size=0.2, random_state=42)\n",
        "\n",
        "model = HistGradientBoostingClassifier()\n",
        "\n",
        "model.fit(X_train,y_train)\n",
        "\n",
        "y_preds = model.predict(X_test)\n",
        "\n",
        "print(\"accuracy score for base HistGradientBoostingClassifier: \", accuracy_score(y_test, y_preds))\n",
        "\n",
        "print(\"classification report for base HistGradientBoostingClassifier: \", \"\\n\",classification_report(y_test,y_preds))\n",
        "\n",
        "print(\"confusion matrix for base HistGradientBoostingClassifier: \", confusion_matrix(y_test,y_preds))\n",
        "\n",
        "xgb_model = XGBClassifier(\n",
        "    objective='binary:logistic',\n",
        "    learning_rate=0.05,\n",
        "    n_estimators=250,\n",
        "    random_state=42,\n",
        "    eval_metric='logloss'\n",
        ")\n",
        "\n",
        "params = [{\n",
        "    \"learning_rate\": [0.01,0.05,0.1,0.25],\n",
        "    \"n_estimators\": [50,100,250],\n",
        "    \"max_depth\": [1,2,4,8,10]\n",
        "}]\n",
        "\n",
        "gridsearch = GridSearchCV(estimator=xgb_model, param_grid=params, cv=10)\n",
        "\n",
        "gridsearch.fit(X_train,y_train)\n",
        "\n",
        "print(\"best parameters: \", gridsearch.best_params_)\n",
        "\n",
        "print(\"best estimator: \", gridsearch.best_estimator_)\n",
        "\n",
        "print(\"best score: \", gridsearch.best_score_)"
      ],
      "metadata": {
        "colab": {
          "base_uri": "https://localhost:8080/"
        },
        "id": "fP48V5AZXEl4",
        "outputId": "225729ab-a032-4e38-9404-5f8229223cda"
      },
      "execution_count": 43,
      "outputs": [
        {
          "output_type": "stream",
          "name": "stdout",
          "text": [
            "accuracy score for base HistGradientBoostingClassifier:  0.9016393442622951\n",
            "classification report for base HistGradientBoostingClassifier:  \n",
            "               precision    recall  f1-score   support\n",
            "\n",
            "           0       0.87      0.93      0.90        29\n",
            "           1       0.93      0.88      0.90        32\n",
            "\n",
            "    accuracy                           0.90        61\n",
            "   macro avg       0.90      0.90      0.90        61\n",
            "weighted avg       0.90      0.90      0.90        61\n",
            "\n",
            "confusion matrix for base HistGradientBoostingClassifier:  [[27  2]\n",
            " [ 4 28]]\n",
            "best parameters:  {'learning_rate': 0.25, 'max_depth': 1, 'n_estimators': 100}\n",
            "best estimator:  XGBClassifier(base_score=None, booster=None, callbacks=None,\n",
            "              colsample_bylevel=None, colsample_bynode=None,\n",
            "              colsample_bytree=None, device=None, early_stopping_rounds=None,\n",
            "              enable_categorical=False, eval_metric='logloss',\n",
            "              feature_types=None, gamma=None, grow_policy=None,\n",
            "              importance_type=None, interaction_constraints=None,\n",
            "              learning_rate=0.25, max_bin=None, max_cat_threshold=None,\n",
            "              max_cat_to_onehot=None, max_delta_step=None, max_depth=1,\n",
            "              max_leaves=None, min_child_weight=None, missing=nan,\n",
            "              monotone_constraints=None, multi_strategy=None, n_estimators=100,\n",
            "              n_jobs=None, num_parallel_tree=None, random_state=42, ...)\n",
            "best score:  0.8353333333333334\n"
          ]
        }
      ]
    },
    {
      "cell_type": "code",
      "source": [
        "from sklearn.impute import SimpleImputer\n",
        "from sklearn.impute import SimpleImputer\n",
        "from xgboost import XGBClassifier\n",
        "from sklearn.model_selection import train_test_split\n",
        "from sklearn.linear_model import LogisticRegression\n",
        "from sklearn.model_selection import GridSearchCV\n",
        "from sklearn.metrics import accuracy_score, classification_report, confusion_matrix\n",
        "from sklearn.preprocessing import StandardScaler\n",
        "\n",
        "imputer = SimpleImputer(strategy='mean')\n",
        "X_imputed = imputer.fit_transform(X)\n",
        "\n",
        "standard_scaler = StandardScaler()\n",
        "X_scaled = standard_scaler.fit_transform(X_imputed)\n",
        "\n",
        "X_train, X_test, y_train, y_test = train_test_split(X_imputed, target, test_size=0.2, random_state=42)\n",
        "\n",
        "model = LogisticRegression(random_state=42)\n",
        "\n",
        "model.fit(X_train,y_train)\n",
        "\n",
        "y_preds = model.predict(X_test)\n",
        "\n",
        "print(\"accuracy score for base HistGradientBoostingClassifier: \", accuracy_score(y_test, y_preds))\n",
        "\n",
        "print(\"classification report for base HistGradientBoostingClassifier: \", \"\\n\",classification_report(y_test,y_preds))\n",
        "\n",
        "print(\"confusion matrix for base HistGradientBoostingClassifier: \", confusion_matrix(y_test,y_preds))\n",
        "\n",
        "print(\"\\n\")\n",
        "print(\"\\n\")\n",
        "\n",
        "# params = [{\n",
        "#     \"penalty\": ['l1','l2'],\n",
        "#     \"C\": [0.001,0.01,0.1,1,10],\n",
        "\n",
        "# }]\n",
        "\n",
        "# gridsearch = GridSearchCV(estimator=LogisticRegression(solver='saga',random_state=42), param_grid=params, cv=10)\n",
        "\n",
        "# gridsearch.fit(X_train,y_train)\n",
        "\n",
        "# print(\"best parameters: \", gridsearch.best_params_)\n",
        "\n",
        "# print(\"best estimator: \", gridsearch.best_estimator_)\n",
        "\n",
        "# print(\"best score: \", gridsearch.best_score_)"
      ],
      "metadata": {
        "colab": {
          "base_uri": "https://localhost:8080/"
        },
        "id": "Z21Diy9zlr3N",
        "outputId": "53cae53f-0cc9-4d39-d308-a436ead34f57"
      },
      "execution_count": 54,
      "outputs": [
        {
          "output_type": "stream",
          "name": "stdout",
          "text": [
            "accuracy score for base HistGradientBoostingClassifier:  0.8852459016393442\n",
            "classification report for base HistGradientBoostingClassifier:  \n",
            "               precision    recall  f1-score   support\n",
            "\n",
            "           0       0.89      0.86      0.88        29\n",
            "           1       0.88      0.91      0.89        32\n",
            "\n",
            "    accuracy                           0.89        61\n",
            "   macro avg       0.89      0.88      0.88        61\n",
            "weighted avg       0.89      0.89      0.89        61\n",
            "\n",
            "confusion matrix for base HistGradientBoostingClassifier:  [[25  4]\n",
            " [ 3 29]]\n",
            "\n",
            "\n",
            "\n",
            "\n"
          ]
        },
        {
          "output_type": "stream",
          "name": "stderr",
          "text": [
            "/usr/local/lib/python3.11/dist-packages/sklearn/linear_model/_logistic.py:465: ConvergenceWarning: lbfgs failed to converge (status=1):\n",
            "STOP: TOTAL NO. of ITERATIONS REACHED LIMIT.\n",
            "\n",
            "Increase the number of iterations (max_iter) or scale the data as shown in:\n",
            "    https://scikit-learn.org/stable/modules/preprocessing.html\n",
            "Please also refer to the documentation for alternative solver options:\n",
            "    https://scikit-learn.org/stable/modules/linear_model.html#logistic-regression\n",
            "  n_iter_i = _check_optimize_result(\n"
          ]
        }
      ]
    },
    {
      "cell_type": "markdown",
      "source": [
        "# Pipeline for Model Using HistGradientBoostingClassifier with GridSearch"
      ],
      "metadata": {
        "id": "Xd-AqHMq9_Ov"
      }
    },
    {
      "cell_type": "code",
      "source": [
        "# creating a pipeline for model\n",
        "\n",
        "from sklearn.pipeline import Pipeline\n",
        "from sklearn.impute import SimpleImputer\n",
        "from sklearn.preprocessing import StandardScaler\n",
        "from sklearn.linear_model import LogisticRegression\n",
        "from sklearn.model_selection import GridSearchCV\n",
        "from xgboost import XGBClassifier\n",
        "from sklearn.model_selection import train_test_split\n",
        "from sklearn.ensemble import HistGradientBoostingClassifier\n",
        "#from sklearn.model_selection import GridSearchCV\n",
        "from sklearn.metrics import accuracy_score, classification_report, confusion_matrix\n",
        "\n",
        "X_train, X_test, y_train, y_test = train_test_split(X, target, test_size=0.2, random_state=42)\n",
        "\n",
        "model = HistGradientBoostingClassifier()\n",
        "\n",
        "model.fit(X_train,y_train)\n",
        "\n",
        "y_preds = model.predict(X_test)\n",
        "\n",
        "print(\"accuracy score for base HistGradientBoostingClassifier: \", accuracy_score(y_test, y_preds))\n",
        "\n",
        "print(\"classification report for base HistGradientBoostingClassifier: \", \"\\n\",classification_report(y_test,y_preds))\n",
        "\n",
        "print(\"confusion matrix for base HistGradientBoostingClassifier: \", confusion_matrix(y_test,y_preds))\n",
        "\n",
        "\n",
        "heart_disease_pipeline = Pipeline([\n",
        "    ('imputer', SimpleImputer(strategy='mean')),\n",
        "    ('scaler', StandardScaler()),\n",
        "    ('model', LogisticRegression())\n",
        "])\n",
        "\n",
        "\n",
        "params = {\n",
        "    'model__C': [0.01,0.05,0.1,1]\n",
        "}\n",
        "\n",
        "gridsearch = GridSearchCV(heart_disease_pipeline, param_grid=params, cv=10)\n",
        "gridsearch.fit(X,target)\n",
        "\n",
        "print(\"Best Score:\", gridsearch.best_score_)\n",
        "\n",
        "print(\"Best Parameters:\", gridsearch.best_params_)"
      ],
      "metadata": {
        "colab": {
          "base_uri": "https://localhost:8080/"
        },
        "id": "o2BCO32ltP19",
        "outputId": "0ac57b2b-48ce-4fd2-a166-736e09efd321"
      },
      "execution_count": 58,
      "outputs": [
        {
          "output_type": "stream",
          "name": "stdout",
          "text": [
            "accuracy score for base HistGradientBoostingClassifier:  0.9016393442622951\n",
            "classification report for base HistGradientBoostingClassifier:  \n",
            "               precision    recall  f1-score   support\n",
            "\n",
            "           0       0.87      0.93      0.90        29\n",
            "           1       0.93      0.88      0.90        32\n",
            "\n",
            "    accuracy                           0.90        61\n",
            "   macro avg       0.90      0.90      0.90        61\n",
            "weighted avg       0.90      0.90      0.90        61\n",
            "\n",
            "confusion matrix for base HistGradientBoostingClassifier:  [[27  2]\n",
            " [ 4 28]]\n",
            "Best Score: 0.8478494623655914\n",
            "Best Parameters: {'model__C': 0.01}\n"
          ]
        }
      ]
    },
    {
      "cell_type": "code",
      "source": [
        "# creating a pipeline for model HistGradientBoostingClassifier\n",
        "\n",
        "from sklearn.pipeline import Pipeline\n",
        "from sklearn.impute import SimpleImputer\n",
        "from sklearn.preprocessing import StandardScaler\n",
        "from sklearn.linear_model import LogisticRegression\n",
        "from sklearn.model_selection import GridSearchCV\n",
        "from xgboost import XGBClassifier\n",
        "from sklearn.model_selection import train_test_split\n",
        "from sklearn.ensemble import HistGradientBoostingClassifier\n",
        "#from sklearn.model_selection import GridSearchCV\n",
        "from sklearn.metrics import accuracy_score, classification_report, confusion_matrix\n",
        "\n",
        "X_train, X_test, y_train, y_test = train_test_split(X, target, test_size=0.2, random_state=42)\n",
        "\n",
        "model = HistGradientBoostingClassifier()\n",
        "\n",
        "model.fit(X_train,y_train)\n",
        "\n",
        "y_preds = model.predict(X_test)\n",
        "\n",
        "print(\"accuracy score for base HistGradientBoostingClassifier: \", accuracy_score(y_test, y_preds))\n",
        "\n",
        "print(\"classification report for base HistGradientBoostingClassifier: \", \"\\n\",classification_report(y_test,y_preds))\n",
        "\n",
        "print(\"confusion matrix for base HistGradientBoostingClassifier: \", confusion_matrix(y_test,y_preds))\n",
        "\n",
        "\n",
        "heart_disease_pipeline = Pipeline([\n",
        "    ('imputer', SimpleImputer(strategy='mean')),\n",
        "    ('scaler', StandardScaler()),\n",
        "    ('model', HistGradientBoostingClassifier())\n",
        "])\n",
        "\n",
        "\n",
        "params = {\n",
        "    'model__learning_rate': [0.01,0.05,0.1,1],\n",
        "    'model__l2_regularization': [0.01,0.05,0.1,0.2]\n",
        "}\n",
        "\n",
        "gridsearch = GridSearchCV(heart_disease_pipeline, param_grid=params, cv=10)\n",
        "gridsearch.fit(X,target)\n",
        "\n",
        "print(\"Best Score:\", gridsearch.best_score_)\n",
        "\n",
        "print(\"Best Parameters:\", gridsearch.best_params_)"
      ],
      "metadata": {
        "colab": {
          "base_uri": "https://localhost:8080/"
        },
        "id": "MIbF16A4uyZ4",
        "outputId": "487c3f83-d324-4661-9e9d-efeea3f732e1"
      },
      "execution_count": 64,
      "outputs": [
        {
          "output_type": "stream",
          "name": "stdout",
          "text": [
            "accuracy score for base HistGradientBoostingClassifier:  0.9016393442622951\n",
            "classification report for base HistGradientBoostingClassifier:  \n",
            "               precision    recall  f1-score   support\n",
            "\n",
            "           0       0.87      0.93      0.90        29\n",
            "           1       0.93      0.88      0.90        32\n",
            "\n",
            "    accuracy                           0.90        61\n",
            "   macro avg       0.90      0.90      0.90        61\n",
            "weighted avg       0.90      0.90      0.90        61\n",
            "\n",
            "confusion matrix for base HistGradientBoostingClassifier:  [[27  2]\n",
            " [ 4 28]]\n",
            "Best Score: 0.8246236559139785\n",
            "Best Parameters: {'model__l2_regularization': 0.01, 'model__learning_rate': 0.05}\n"
          ]
        }
      ]
    },
    {
      "cell_type": "code",
      "source": [
        "# hgb model\n",
        "X_train, X_test, y_train, y_test = train_test_split(X, target, test_size=0.2, random_state=42)\n",
        "\n",
        "hgb_model = HistGradientBoostingClassifier(learning_rate=0.05, l2_regularization=0.01)\n",
        "\n",
        "hgb_model.fit(X_train,y_train)\n",
        "\n",
        "y_preds = hgb_model.predict(X_test)\n",
        "\n",
        "print(\"accuracy score for HistGradientBoostingClassifier: \", accuracy_score(y_test, y_preds))\n",
        "\n",
        "print(\"classification report for HistGradientBoostingClassifier: \", \"\\n\",classification_report(y_test,y_preds))\n",
        "\n",
        "print(\"confusion matrix for HistGradientBoostingClassifier: \", \"\\n\", confusion_matrix(y_test,y_preds))"
      ],
      "metadata": {
        "colab": {
          "base_uri": "https://localhost:8080/"
        },
        "id": "Uv4POk_60Z_H",
        "outputId": "9104c862-9a93-433f-d999-b62c4ea99887"
      },
      "execution_count": 70,
      "outputs": [
        {
          "output_type": "stream",
          "name": "stdout",
          "text": [
            "accuracy score for HistGradientBoostingClassifier:  0.9016393442622951\n",
            "classification report for HistGradientBoostingClassifier:  \n",
            "               precision    recall  f1-score   support\n",
            "\n",
            "           0       0.87      0.93      0.90        29\n",
            "           1       0.93      0.88      0.90        32\n",
            "\n",
            "    accuracy                           0.90        61\n",
            "   macro avg       0.90      0.90      0.90        61\n",
            "weighted avg       0.90      0.90      0.90        61\n",
            "\n",
            "confusion matrix for HistGradientBoostingClassifier:  \n",
            " [[27  2]\n",
            " [ 4 28]]\n"
          ]
        }
      ]
    },
    {
      "cell_type": "markdown",
      "source": [
        "# Pipeline for Model Using HistGradientBoostingClassifier"
      ],
      "metadata": {
        "id": "R2r-c2nG4eL2"
      }
    },
    {
      "cell_type": "code",
      "source": [
        "# creating a pipeline for model HistGradientBoostingClassifier\n",
        "\n",
        "from sklearn.pipeline import Pipeline\n",
        "from sklearn.impute import SimpleImputer\n",
        "from sklearn.preprocessing import StandardScaler\n",
        "from sklearn.linear_model import LogisticRegression\n",
        "from sklearn.model_selection import GridSearchCV\n",
        "from xgboost import XGBClassifier\n",
        "from sklearn.model_selection import train_test_split\n",
        "from sklearn.ensemble import HistGradientBoostingClassifier\n",
        "#from sklearn.model_selection import GridSearchCV\n",
        "from sklearn.metrics import accuracy_score, classification_report, confusion_matrix\n",
        "\n",
        "X_train, X_test, y_train, y_test = train_test_split(X, target, test_size=0.2, random_state=42)\n",
        "\n",
        "heart_disease_pipeline = Pipeline([\n",
        "    ('model', HistGradientBoostingClassifier(learning_rate=0.05, l2_regularization=0.01))\n",
        "])\n",
        "\n",
        "heart_disease_pipeline.fit(X_train,y_train)\n",
        "\n",
        "y_preds = heart_disease_pipeline.predict(X_test)\n",
        "\n",
        "print(\"Accuracy Score for Heart Disease Pipeline using HistGradientBoostingClassifier: \", accuracy_score(y_test, y_preds))\n",
        "\n",
        "print(\"Classification Report for Heart Disease Pipeline using HistGradientBoostingClassifier: \", \"\\n\", classification_report(y_test,y_preds))"
      ],
      "metadata": {
        "colab": {
          "base_uri": "https://localhost:8080/"
        },
        "id": "gPrAkaMx3kVC",
        "outputId": "d9576a50-7ba6-4f6e-b18b-17a34be65b3c"
      },
      "execution_count": 72,
      "outputs": [
        {
          "output_type": "stream",
          "name": "stdout",
          "text": [
            "Accuracy Score for Heart Disease Pipeline using HistGradientBoostingClassifier:  0.9016393442622951\n",
            "Classification Report for Heart Disease Pipeline using HistGradientBoostingClassifier:  \n",
            "               precision    recall  f1-score   support\n",
            "\n",
            "           0       0.87      0.93      0.90        29\n",
            "           1       0.93      0.88      0.90        32\n",
            "\n",
            "    accuracy                           0.90        61\n",
            "   macro avg       0.90      0.90      0.90        61\n",
            "weighted avg       0.90      0.90      0.90        61\n",
            "\n"
          ]
        }
      ]
    },
    {
      "cell_type": "markdown",
      "source": [
        "# Pipeline for Model Using RandomForestClassifier with GridSearch"
      ],
      "metadata": {
        "id": "xtanABGM7P-j"
      }
    },
    {
      "cell_type": "code",
      "source": [
        "# creating a pipeline for model RandomForestClassifier\n",
        "\n",
        "from sklearn.pipeline import Pipeline\n",
        "from sklearn.impute import SimpleImputer\n",
        "from sklearn.preprocessing import StandardScaler\n",
        "from sklearn.linear_model import LogisticRegression\n",
        "from sklearn.model_selection import GridSearchCV\n",
        "from xgboost import XGBClassifier\n",
        "from sklearn.model_selection import train_test_split\n",
        "from sklearn.ensemble import RandomForestClassifier\n",
        "from sklearn.metrics import accuracy_score, classification_report, confusion_matrix\n",
        "\n",
        "X_train, X_test, y_train, y_test = train_test_split(X, target, test_size=0.2, random_state=42)\n",
        "\n",
        "heart_disease_pipeline = Pipeline([\n",
        "    ('imputer', SimpleImputer(strategy='mean')),\n",
        "    ('scaler', StandardScaler()),\n",
        "    ('model', RandomForestClassifier())\n",
        "])\n",
        "\n",
        "\n",
        "params = {\n",
        "    'model__n_estimators': [50,100,250,500],\n",
        "    'model__criterion': ['gini','entropy','log_loss'],\n",
        "    'model__max_depth': [1,2,4,8]\n",
        "}\n",
        "\n",
        "gridsearch = GridSearchCV(heart_disease_pipeline, param_grid=params, cv=10)\n",
        "gridsearch.fit(X,target)\n",
        "\n",
        "print(\"Best Score:\", gridsearch.best_score_)\n",
        "\n",
        "print(\"Best Parameters:\", gridsearch.best_params_)"
      ],
      "metadata": {
        "colab": {
          "base_uri": "https://localhost:8080/"
        },
        "id": "AphQwD8o4czw",
        "outputId": "589238b3-4c57-4e10-a925-3bb20fdb91f5"
      },
      "execution_count": 78,
      "outputs": [
        {
          "output_type": "stream",
          "name": "stdout",
          "text": [
            "Best Score: 0.8513978494623655\n",
            "Best Parameters: {'model__criterion': 'entropy', 'model__max_depth': 1, 'model__n_estimators': 500}\n"
          ]
        }
      ]
    },
    {
      "cell_type": "code",
      "source": [
        "# creating a pipeline for model RandomForestClassifier\n",
        "\n",
        "from sklearn.pipeline import Pipeline\n",
        "from sklearn.impute import SimpleImputer\n",
        "from sklearn.preprocessing import StandardScaler\n",
        "from sklearn.linear_model import LogisticRegression\n",
        "from sklearn.model_selection import GridSearchCV\n",
        "from xgboost import XGBClassifier\n",
        "from sklearn.model_selection import train_test_split\n",
        "from sklearn.ensemble import RandomForestClassifier\n",
        "from sklearn.metrics import accuracy_score, classification_report, confusion_matrix\n",
        "\n",
        "X_train, X_test, y_train, y_test = train_test_split(X, target, test_size=0.2, random_state=42)\n",
        "\n",
        "heart_disease_pipeline = Pipeline([\n",
        "    ('imputer', SimpleImputer(strategy='mean')),\n",
        "    ('scaler', StandardScaler()),\n",
        "    ('model', RandomForestClassifier())\n",
        "])\n",
        "\n",
        "\n",
        "params = [{\n",
        "    'model__criterion': 'entropy',\n",
        "    'model__max_depth': 1,\n",
        "    'model__n_estimators': 500\n",
        "}]\n",
        "\n",
        "\n",
        "heart_disease_pipeline.fit(X_train,y_train)\n",
        "\n",
        "y_preds = heart_disease_pipeline.predict(X_test)\n",
        "\n",
        "print(\"Accuracy Score for Heart Disease Pipeline using RandomForestClassifier: \", accuracy_score(y_test, y_preds))\n",
        "\n",
        "print(\"Classification Report for Heart Disease Pipeline using RandomForestClassifier: \", \"\\n\", classification_report(y_test,y_preds))"
      ],
      "metadata": {
        "colab": {
          "base_uri": "https://localhost:8080/"
        },
        "id": "raPotKqs-DxE",
        "outputId": "40d624c6-f90e-437b-b1ae-7ca4ef471e30"
      },
      "execution_count": 83,
      "outputs": [
        {
          "output_type": "stream",
          "name": "stdout",
          "text": [
            "Accuracy Score for Heart Disease Pipeline using RandomForestClassifier:  0.8852459016393442\n",
            "Classification Report for Heart Disease Pipeline using RandomForestClassifier:  \n",
            "               precision    recall  f1-score   support\n",
            "\n",
            "           0       0.84      0.93      0.89        29\n",
            "           1       0.93      0.84      0.89        32\n",
            "\n",
            "    accuracy                           0.89        61\n",
            "   macro avg       0.89      0.89      0.89        61\n",
            "weighted avg       0.89      0.89      0.89        61\n",
            "\n"
          ]
        }
      ]
    },
    {
      "cell_type": "markdown",
      "source": [
        "# Pipeline for Model using XGBClassifier with GridSearch (NOT binary)"
      ],
      "metadata": {
        "id": "Do7aGgfO_4yy"
      }
    },
    {
      "cell_type": "code",
      "source": [
        "# creating a pipeline for model XGBClassifier\n",
        "\n",
        "from sklearn.pipeline import Pipeline\n",
        "from sklearn.impute import SimpleImputer\n",
        "from sklearn.preprocessing import StandardScaler\n",
        "from sklearn.linear_model import LogisticRegression\n",
        "from sklearn.model_selection import GridSearchCV\n",
        "from xgboost import XGBClassifier\n",
        "from sklearn.model_selection import train_test_split\n",
        "from sklearn.ensemble import RandomForestClassifier\n",
        "from sklearn.metrics import accuracy_score, classification_report, confusion_matrix\n",
        "\n",
        "target = heart_disease.data.targets['num']\n",
        "\n",
        "X_train, X_test, y_train, y_test = train_test_split(X, target, test_size=0.2, random_state=42)\n",
        "\n",
        "heart_disease_pipeline = Pipeline([\n",
        "    ('imputer', SimpleImputer(strategy='mean')),\n",
        "    ('scaler', StandardScaler()),\n",
        "    ('model', XGBClassifier())\n",
        "])\n",
        "\n",
        "\n",
        "params = {\n",
        "    'model__learning_rate': [0.01,0.05,0.1,0.3,1],\n",
        "    'model__gamma': [0,0.05,0.1,0.2],\n",
        "    'model__objective': ['multi:softmax'],\n",
        "    'model__num_class': [5]\n",
        "}\n",
        "\n",
        "gridsearch = GridSearchCV(heart_disease_pipeline, param_grid=params, cv=10)\n",
        "gridsearch.fit(X,target)\n",
        "\n",
        "print(\"Best Score:\", gridsearch.best_score_)\n",
        "\n",
        "print(\"Best Parameters:\", gridsearch.best_params_)"
      ],
      "metadata": {
        "colab": {
          "base_uri": "https://localhost:8080/"
        },
        "id": "-vQI6QUZBZxa",
        "outputId": "d0b09966-4ef0-4a76-9f87-93e6e97bd3e5"
      },
      "execution_count": 85,
      "outputs": [
        {
          "output_type": "stream",
          "name": "stdout",
          "text": [
            "Best Score: 0.5741935483870967\n",
            "Best Parameters: {'model__gamma': 0.2, 'model__learning_rate': 0.3, 'model__num_class': 5, 'model__objective': 'multi:softmax'}\n"
          ]
        }
      ]
    },
    {
      "cell_type": "markdown",
      "source": [
        "# Random Forest Classifier with Balanced Class Weight and Multi-Class Classification"
      ],
      "metadata": {
        "id": "-_BD5Ia2Fep2"
      }
    },
    {
      "cell_type": "code",
      "source": [
        "# creating a pipeline for model RandomForestClassifier\n",
        "\n",
        "from sklearn.pipeline import Pipeline\n",
        "from sklearn.impute import SimpleImputer\n",
        "from sklearn.preprocessing import StandardScaler\n",
        "from sklearn.linear_model import LogisticRegression\n",
        "from sklearn.model_selection import GridSearchCV\n",
        "from xgboost import XGBClassifier\n",
        "from sklearn.model_selection import train_test_split\n",
        "from sklearn.ensemble import RandomForestClassifier\n",
        "from sklearn.metrics import accuracy_score, classification_report, confusion_matrix\n",
        "\n",
        "target = heart_disease.data.targets['num']\n",
        "\n",
        "X_train, X_test, y_train, y_test = train_test_split(X, target, test_size=0.2, random_state=42)\n",
        "\n",
        "heart_disease_pipeline = Pipeline([\n",
        "    ('imputer', SimpleImputer(strategy='mean')),\n",
        "    ('scaler', StandardScaler()),\n",
        "    ('model', RandomForestClassifier(class_weight='balanced'))\n",
        "])\n",
        "\n",
        "\n",
        "params = {\n",
        "    'model__n_estimators': [50,100,250,500],\n",
        "    'model__criterion': ['gini','entropy','log_loss'],\n",
        "    'model__max_depth': [1,2,4,8]\n",
        "}\n",
        "\n",
        "gridsearch = GridSearchCV(heart_disease_pipeline, param_grid=params, cv=10)\n",
        "gridsearch.fit(X,target)\n",
        "\n",
        "print(\"Best Score:\", gridsearch.best_score_)\n",
        "\n",
        "print(\"Best Parameters:\", gridsearch.best_params_)"
      ],
      "metadata": {
        "colab": {
          "base_uri": "https://localhost:8080/"
        },
        "id": "UzbHZz2SFgfe",
        "outputId": "7b6dbdd9-667e-4c34-88e3-9658623b8aff"
      },
      "execution_count": 87,
      "outputs": [
        {
          "output_type": "stream",
          "name": "stdout",
          "text": [
            "Best Score: 0.5938709677419354\n",
            "Best Parameters: {'model__criterion': 'gini', 'model__max_depth': 4, 'model__n_estimators': 100}\n"
          ]
        }
      ]
    }
  ]
}